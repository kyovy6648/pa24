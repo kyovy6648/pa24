{
  "nbformat": 4,
  "nbformat_minor": 0,
  "metadata": {
    "colab": {
      "name": "ch3-code01-pa24.ipynb",
      "provenance": [],
      "collapsed_sections": [],
      "toc_visible": true
    },
    "kernelspec": {
      "display_name": "Python 3",
      "language": "python",
      "name": "python3"
    },
    "language_info": {
      "codemirror_mode": {
        "name": "ipython",
        "version": 3
      },
      "file_extension": ".py",
      "mimetype": "text/x-python",
      "name": "python",
      "nbconvert_exporter": "python",
      "pygments_lexer": "ipython3",
      "version": "3.7.5"
    }
  },
  "cells": [
    {
      "cell_type": "markdown",
      "metadata": {
        "id": "Kofr2xx1AGMt"
      },
      "source": [
        "# 파이썬 활용\n",
        "## 구글 코랩에서 코딩\n",
        "- 작업 노트 코드는 구글드라이브에 저장\n",
        "- pa24"
      ]
    },
    {
      "cell_type": "markdown",
      "metadata": {
        "id": "H4jNE-BMAK3f"
      },
      "source": [
        "# ch3-code01-pa24.ipynb\n",
        "## py24  (change to your id)\n",
        "- 조건문: if - elif - else\n",
        "    - 조건식\n",
        "        - 비교연산자(<, >, ==, !=, >=, <=) 사용\n",
        "        - 복합 조건식: or, and, not\n",
        "        - 조건식: in, not in, pass\n",
        "        - 단축조건식: 한 줄 코드 조건식\n",
        "- 반복문: while\n",
        "    - break\n",
        "    - continue"
      ]
    },
    {
      "cell_type": "markdown",
      "metadata": {
        "id": "tFaJXxSYqlPp"
      },
      "source": [
        "### 코드셀 분할 단축키\n",
        "- how to do ?\n",
        "  - 도구-> 단축키 \n",
        "  - 커서에서 분할 : cntrl+Equlas(Ctrl+=)\n"
      ]
    },
    {
      "cell_type": "markdown",
      "metadata": {
        "id": "LxlpPk5iCAzm"
      },
      "source": [
        "### if문은 어떻게 사용?"
      ]
    },
    {
      "cell_type": "code",
      "metadata": {
        "id": "hXPcvn1CtW6z",
        "colab": {
          "base_uri": "https://localhost:8080/"
        },
        "outputId": "d37ae612-76a2-497f-a8ef-796ad771c439"
      },
      "source": [
        "# ch3_01_if_else.py\n",
        "#\n",
        "print(\"if문은 어떻게 사용?\")\n",
        "money = True\n",
        "if money:\n",
        "    print(\"택시를 타고 가라\")\n",
        "else:\n",
        "    print(\"걸어 가라\")\n",
        "\n"
      ],
      "execution_count": 1,
      "outputs": [
        {
          "output_type": "stream",
          "text": [
            "if문은 어떻게 사용?\n",
            "택시를 타고 가라\n"
          ],
          "name": "stdout"
        }
      ]
    },
    {
      "cell_type": "code",
      "metadata": {
        "colab": {
          "base_uri": "https://localhost:8080/"
        },
        "id": "YOAjlZ1uRdKb",
        "outputId": "30d8f23d-cd95-4539-bd4b-8d85f66f7a7d"
      },
      "source": [
        "money = True #False\n",
        "if money:\n",
        "  print(\"택시타세요.\")\n",
        "  print(\"집으로...\")\n",
        "else:\n",
        "  print(\"방콕!\")\n"
      ],
      "execution_count": 7,
      "outputs": [
        {
          "output_type": "stream",
          "text": [
            "택시타세요.\n",
            "집으로...\n"
          ],
          "name": "stdout"
        }
      ]
    },
    {
      "cell_type": "code",
      "metadata": {
        "colab": {
          "base_uri": "https://localhost:8080/"
        },
        "id": "_TmYxJp1B7PH",
        "outputId": "c17bb197-1ed1-41cb-977a-15442071043b"
      },
      "source": [
        "############################\n",
        "print(\"if문의 기본 구조\")\n",
        "'''\n",
        "if 조건문:\n",
        "    수행할 문장1\n",
        "    수행할 문장2\n",
        "    ...\n",
        "else:\n",
        "    수행할 문장A\n",
        "    수행할 문장B\n",
        "    ...\n",
        "'''\n",
        "#\n",
        "\n",
        "############################\n",
        "print(\"들여 쓰기\")\n",
        "# 예-1\n",
        "money = True\n",
        "if money:\n",
        "   print(\"택시를\")\n",
        "   print(\"타고\")\n",
        "   print(\"가라\")\n",
        "\n"
      ],
      "execution_count": 11,
      "outputs": [
        {
          "output_type": "stream",
          "text": [
            "if문의 기본 구조\n",
            "들여 쓰기\n",
            "택시를\n",
            "타고\n",
            "가라\n"
          ],
          "name": "stdout"
        }
      ]
    },
    {
      "cell_type": "markdown",
      "metadata": {
        "id": "wXLRjLgXSdcJ"
      },
      "source": [
        "### C,Java\n",
        "- { ... }\n",
        "\n",
        "###Python\n",
        "- Indent(들여쓰기)"
      ]
    },
    {
      "cell_type": "code",
      "metadata": {
        "colab": {
          "base_uri": "https://localhost:8080/"
        },
        "id": "wdy44YxNSHBH",
        "outputId": "1887b9ea-7f48-4593-e4fb-ced8b0959443"
      },
      "source": [
        "\n",
        "#\n",
        "# 예-2\n",
        "money = True\n",
        "if money:\n",
        "    print(\"택시를\")\n",
        "    print(\"타고\")\n",
        "    print(\"가라\")\n",
        "    \n"
      ],
      "execution_count": 12,
      "outputs": [
        {
          "output_type": "stream",
          "text": [
            "택시를\n",
            "타고\n",
            "가라\n"
          ],
          "name": "stdout"
        }
      ]
    },
    {
      "cell_type": "markdown",
      "metadata": {
        "id": "T_0I7I15S3_G"
      },
      "source": [
        "### 조건식 : 비교연산자"
      ]
    },
    {
      "cell_type": "code",
      "metadata": {
        "colab": {
          "base_uri": "https://localhost:8080/"
        },
        "id": "_Yrk484mR4cm",
        "outputId": "03e664bf-74ee-4c9e-9c98-3b9d0b227fb2"
      },
      "source": [
        "###################################\n",
        "# 조건문 다음에 콜론(:)을 잊지 말자!\n",
        "###################################\n",
        "\n",
        "print(\"조건식: 비교연산자\")\n",
        "# 비교연산자(<, >, ==, !=, >=, <=)를 쓰는 방법\n",
        "x=3\n",
        "y=2\n",
        "x>y\n",
        "\n",
        "#x<y\n",
        "#x==y\n",
        "#x!=y\n"
      ],
      "execution_count": 13,
      "outputs": [
        {
          "output_type": "stream",
          "text": [
            "조건식: 비교연산자\n"
          ],
          "name": "stdout"
        },
        {
          "output_type": "execute_result",
          "data": {
            "text/plain": [
              "True"
            ]
          },
          "metadata": {
            "tags": []
          },
          "execution_count": 13
        }
      ]
    },
    {
      "cell_type": "code",
      "metadata": {
        "colab": {
          "base_uri": "https://localhost:8080/"
        },
        "id": "k_ixvV4aTAvw",
        "outputId": "c2ea8da8-37df-4946-d0da-97a3c6bf5d7b"
      },
      "source": [
        "###################################\n",
        "# 조건식 만들기\n",
        "###################################\n",
        "# \"만약 3000원 이상의 돈을 가지고 있으면 택시를 타고 그렇지 않으면 걸어 가라.\"\n",
        "money = 2000\n",
        "if money >= 3000:\n",
        "    print(\"택시를 타고 가라\")\n",
        "else:\n",
        "    print(\"걸어가라\")\n",
        "\n"
      ],
      "execution_count": 14,
      "outputs": [
        {
          "output_type": "stream",
          "text": [
            "걸어가라\n"
          ],
          "name": "stdout"
        }
      ]
    },
    {
      "cell_type": "code",
      "metadata": {
        "colab": {
          "base_uri": "https://localhost:8080/"
        },
        "id": "ro8DKpeSTVCy",
        "outputId": "3416291b-cf45-4c6b-fe9f-511202a17d0f"
      },
      "source": [
        "money, money>3000"
      ],
      "execution_count": 15,
      "outputs": [
        {
          "output_type": "execute_result",
          "data": {
            "text/plain": [
              "(2000, False)"
            ]
          },
          "metadata": {
            "tags": []
          },
          "execution_count": 15
        }
      ]
    },
    {
      "cell_type": "code",
      "metadata": {
        "colab": {
          "base_uri": "https://localhost:8080/"
        },
        "id": "An48npcTTP5m",
        "outputId": "03faf491-412f-4743-fa7f-e20198db2292"
      },
      "source": [
        "###################################\n",
        "# 복합 조건식: or, and, not\n",
        "###################################\n",
        "# 연산자\t설명\n",
        "# x or y  :\tx와 y 둘중에 하나만 참이면 참이다\n",
        "# x and y :\tx와 y 모두 참이어야 참이다\n",
        "# not x\t  : x가 거짓이면 참이다\n",
        "###################################\n",
        "# or 복합 조건식 이용\n",
        "# \"돈이 3000원 이상 있거나 카드가 있다면 택시를 타고 그렇지 않으면 걸어 가라.\"\n",
        "money = 2000\n",
        "card = True\n",
        "if money >= 3000 or card:\n",
        "    print(\"택시를 타고 가라\")\n",
        "else:\n",
        "    print(\"걸어가라\")\n",
        "\n"
      ],
      "execution_count": 16,
      "outputs": [
        {
          "output_type": "stream",
          "text": [
            "택시를 타고 가라\n"
          ],
          "name": "stdout"
        }
      ]
    },
    {
      "cell_type": "markdown",
      "metadata": {
        "id": "qRIWP1HoTuAK"
      },
      "source": [
        "### 조건식: \n",
        "- in\n",
        "- not in"
      ]
    },
    {
      "cell_type": "code",
      "metadata": {
        "colab": {
          "base_uri": "https://localhost:8080/"
        },
        "id": "LYBEtOhSTkRO",
        "outputId": "c2fa081f-3eb7-4659-d54b-1d2f1f2b99bd"
      },
      "source": [
        "###################################\n",
        "# 조건식: in, not in\n",
        "###################################\n",
        "#   in\t          not in\n",
        "# x in 리스트\tx not in 리스트\n",
        "# x in 튜플\t    x not in 튜플\n",
        "# x in 문자열\tx not in 문자열\n",
        "###################################\n",
        "# list\n",
        "1 in [1, 2, 3]\n",
        "1 not in [1, 2, 3]\n",
        "# tuple\n",
        "'a' in ('a', 'b', 'c')\n",
        "#a in ('a','b','c') #Error\n",
        "# string\n",
        "'j' not in 'python'\n",
        "'t' in 'python'\n"
      ],
      "execution_count": 18,
      "outputs": [
        {
          "output_type": "execute_result",
          "data": {
            "text/plain": [
              "True"
            ]
          },
          "metadata": {
            "tags": []
          },
          "execution_count": 18
        }
      ]
    },
    {
      "cell_type": "code",
      "metadata": {
        "colab": {
          "base_uri": "https://localhost:8080/"
        },
        "id": "mFQzZooCUdg9",
        "outputId": "69822f1c-62eb-4121-ad27-e2ab78820bdd"
      },
      "source": [
        "'a' in 'abcdefg'"
      ],
      "execution_count": 19,
      "outputs": [
        {
          "output_type": "execute_result",
          "data": {
            "text/plain": [
              "True"
            ]
          },
          "metadata": {
            "tags": []
          },
          "execution_count": 19
        }
      ]
    },
    {
      "cell_type": "code",
      "metadata": {
        "colab": {
          "base_uri": "https://localhost:8080/"
        },
        "id": "IPF8O-uCT-pf",
        "outputId": "1a19deb4-07b2-4cfb-d297-d6e25f77d3fd"
      },
      "source": [
        "# in을 이용한 코드\n",
        "# \"만약 주머니에 돈이 있으면 택시를 타고, 없으면 걸어 가라.\"\n",
        "pocket = ['paper', 'cellphone', 'money']\n",
        "if 'money' in pocket:\n",
        "    print(\"택시를 타고 가라\")\n",
        "else:\n",
        "    print(\"걸어가라\")\n",
        "\n"
      ],
      "execution_count": 20,
      "outputs": [
        {
          "output_type": "stream",
          "text": [
            "택시를 타고 가라\n"
          ],
          "name": "stdout"
        }
      ]
    },
    {
      "cell_type": "code",
      "metadata": {
        "id": "jLgXeEeGVspS"
      },
      "source": [
        "\n",
        "###################################\n",
        "# 조건식: pass\n",
        "###################################\n",
        "pocket = ['paper', 'cellphone', 'money']\n",
        "if 'money' in pocket:\n",
        "    # print(\"택시를 타고 가라\")\n",
        "    pass\n",
        "else:\n",
        "    print(\"걸어가라\")\n"
      ],
      "execution_count": 21,
      "outputs": []
    },
    {
      "cell_type": "markdown",
      "metadata": {
        "id": "2RqA_5G9V5k6"
      },
      "source": [
        "### 다중 조건식: elif\n",
        "> 다양한 조건을 판단"
      ]
    },
    {
      "cell_type": "code",
      "metadata": {
        "colab": {
          "base_uri": "https://localhost:8080/"
        },
        "id": "qhhuIU8oVxq2",
        "outputId": "e75597ce-7875-4974-97d5-27aad3d8a801"
      },
      "source": [
        "###################################\n",
        "# 다중 조건식: elif\n",
        "# 다양한 조건을 판단\n",
        "###################################\n",
        "# \"주머니에 돈이 있으면 택시를 타고, \n",
        "# 주머니에 돈은 없지만 카드가 있으면 택시를 타고, \n",
        "# 돈도 없고 카드도 없으면 걸어 가라.\"\n",
        "#\n",
        "pocket = ['paper', 'handphone']\n",
        "card = True\n",
        "if 'money' in pocket:\n",
        "    print(\"택시를 타고가라\")\n",
        "else:\n",
        "    if card:\n",
        "        print(\"택시를 타고가라\")\n",
        "    else:\n",
        "        print(\"걸어가라\")\n"
      ],
      "execution_count": 22,
      "outputs": [
        {
          "output_type": "stream",
          "text": [
            "택시를 타고가라\n"
          ],
          "name": "stdout"
        }
      ]
    },
    {
      "cell_type": "code",
      "metadata": {
        "colab": {
          "base_uri": "https://localhost:8080/"
        },
        "id": "rtnfTOWVWD5f",
        "outputId": "daadfd0a-a412-4c30-8d03-adc2ad5f42df"
      },
      "source": [
        "\n",
        "\n",
        "# elif 이용한 코드\n",
        "pocket = ['paper', 'handphone']\n",
        "card = True\n",
        "if 'money' in pocket:\n",
        "    print(\"택시를 타고가라\")\n",
        "elif card:\n",
        "    print(\"택시를 타고가라\")\n",
        "else:\n",
        "    print(\"걸어가라\")\n",
        "\n"
      ],
      "execution_count": 23,
      "outputs": [
        {
          "output_type": "stream",
          "text": [
            "택시를 타고가라\n"
          ],
          "name": "stdout"
        }
      ]
    },
    {
      "cell_type": "markdown",
      "metadata": {
        "id": "nqvKPE8JYIad"
      },
      "source": [
        "## 단축 코드 만들기\n",
        "- if문을 한 줄로 작성하기"
      ]
    },
    {
      "cell_type": "code",
      "metadata": {
        "id": "omUsNoFxWaR4"
      },
      "source": [
        "###################################\n",
        "# if문을 한 줄로 작성하기\n",
        "###################################\n",
        "pocket = ['paper', 'cellphone', 'money']\n",
        "if 'money' in pocket:\n",
        "    pass\n",
        "else:\n",
        "    print(\"카드를 사용해라.\")\n"
      ],
      "execution_count": 25,
      "outputs": []
    },
    {
      "cell_type": "code",
      "metadata": {
        "colab": {
          "base_uri": "https://localhost:8080/"
        },
        "id": "h9VtVgxoYgPC",
        "outputId": "5b16a0a0-7b24-493a-df8e-434f35bac25a"
      },
      "source": [
        "# 최소줄 코드\n",
        "if 'money' in pocket: pass\n",
        "else: print(\"카드를 사용해라.\")\n"
      ],
      "execution_count": 24,
      "outputs": [
        {
          "output_type": "stream",
          "text": [
            "카드를 사용해라.\n"
          ],
          "name": "stdout"
        }
      ]
    },
    {
      "cell_type": "code",
      "metadata": {
        "colab": {
          "base_uri": "https://localhost:8080/"
        },
        "id": "Qje1Y16YZHhc",
        "outputId": "1a2ef9d0-555b-43b3-e97f-643fba6a93d9"
      },
      "source": [
        "######################################################\n",
        "# 조건부 표현식 (conditional expression)\n",
        "# 조건문이 참인 경우 if 조건문 else 조건문이 거짓인 경우\n",
        "######################################################\n",
        "score=80\n",
        "if score >= 60:\n",
        "    message = \"success\"\n",
        "else:\n",
        "    message = \"failure\"\n",
        "\n",
        "print(message)\n",
        "\n",
        "# 한줄 코드\n",
        "score=50\n",
        "message = \"success\" if score >= 60 else \"failure\"\n",
        "print(message)\n"
      ],
      "execution_count": 28,
      "outputs": [
        {
          "output_type": "stream",
          "text": [
            "success\n",
            "failure\n"
          ],
          "name": "stdout"
        }
      ]
    },
    {
      "cell_type": "markdown",
      "metadata": {
        "id": "iyJ4pFJ3Zt3L"
      },
      "source": [
        "## 반복문\n",
        "- while \n",
        "- for"
      ]
    },
    {
      "cell_type": "code",
      "metadata": {
        "id": "0Y0fMfkPtW62",
        "colab": {
          "base_uri": "https://localhost:8080/"
        },
        "outputId": "3dfbc7eb-b83f-4a6c-a89d-55f59229bf63"
      },
      "source": [
        "# ch3_02_whie.py\n",
        "#\n",
        "print(\"while 문은 어떻게 사용?\")\n",
        "# 반복해서 문장을 수행해야 할 경우 while문을 사용한다. \n",
        "# 그래서 while문을 반복문이라고도 부른다.\n",
        "\n",
        "############################\n",
        "print(\"while문의 기본 구조\")\n",
        "'''\n",
        "while <조건문>:\n",
        "    <수행할 문장1>\n",
        "    <수행할 문장2>\n",
        "    <수행할 문장3>\n",
        "    ...\n",
        "'''\n",
        "\n",
        "# \"열 번 찍어 안 넘어가는 나무 없다\"는 속담을 파이썬 프로그램으로 반복 실행\n",
        "treeHit = 0\n",
        "while treeHit < 10:\n",
        "    treeHit = treeHit +1\n",
        "    print(\"나무를 %d번 찍었습니다.\" % treeHit)\n",
        "    if treeHit == 10:\n",
        "        print(\"나무 넘어갑니다.\")\n",
        "\n"
      ],
      "execution_count": 29,
      "outputs": [
        {
          "output_type": "stream",
          "text": [
            "while 문은 어떻게 사용?\n",
            "while문의 기본 구조\n",
            "나무를 1번 찍었습니다.\n",
            "나무를 2번 찍었습니다.\n",
            "나무를 3번 찍었습니다.\n",
            "나무를 4번 찍었습니다.\n",
            "나무를 5번 찍었습니다.\n",
            "나무를 6번 찍었습니다.\n",
            "나무를 7번 찍었습니다.\n",
            "나무를 8번 찍었습니다.\n",
            "나무를 9번 찍었습니다.\n",
            "나무를 10번 찍었습니다.\n",
            "나무 넘어갑니다.\n"
          ],
          "name": "stdout"
        }
      ]
    },
    {
      "cell_type": "code",
      "metadata": {
        "colab": {
          "base_uri": "https://localhost:8080/"
        },
        "id": "ZwoSolwPZ8GY",
        "outputId": "bd6d6552-7c28-48f2-aac4-81dc418d7c97"
      },
      "source": [
        "#\n",
        "############################\n",
        "print(\"while문 만들기\")\n",
        "#\n",
        "prompt = \"\"\"\n",
        "1. Add\n",
        "2. Del\n",
        "3. List\n",
        "4. Quit\n",
        "Enter number: \"\"\"\n",
        "\n",
        "print(prompt)\n",
        "\n",
        "number = 0\n",
        "while number != 4:\n",
        "    print(prompt)\n",
        "    number = int(input())"
      ],
      "execution_count": 32,
      "outputs": [
        {
          "output_type": "stream",
          "text": [
            "while문 만들기\n",
            "\n",
            "1. Add\n",
            "2. Del\n",
            "3. List\n",
            "4. Quit\n",
            "Enter number: \n",
            "\n",
            "1. Add\n",
            "2. Del\n",
            "3. List\n",
            "4. Quit\n",
            "Enter number: \n",
            "1\n",
            "\n",
            "1. Add\n",
            "2. Del\n",
            "3. List\n",
            "4. Quit\n",
            "Enter number: \n",
            "4\n"
          ],
          "name": "stdout"
        }
      ]
    },
    {
      "cell_type": "code",
      "metadata": {
        "colab": {
          "base_uri": "https://localhost:8080/"
        },
        "id": "OOJX5iqcaHgb",
        "outputId": "73332a74-212e-40b0-9632-f6dbb252a565"
      },
      "source": [
        "#\n",
        "###################################\n",
        "print(\"while문 강제로 빠져나가기\")\n",
        "###################################\n",
        "# 커피 자판기 작동\n",
        "# 자판기가 제대로 작동하려면 커피가 얼마나 남았는지 항상 검사해야 한다. \n",
        "# 만약 커피가 떨어졌다면 판매를 중단하고 \"판매 중지\" 문구를 사용자에게 보여준다.\n",
        "#\n",
        "coffee = 10\n",
        "money = 300\n",
        "while money:\n",
        "    print(\"돈을 받았으니 커피를 줍니다.\")\n",
        "    coffee = coffee -1\n",
        "    print(\"남은 커피의 양은 %d개입니다.\" % coffee)\n",
        "    if coffee == 0:\n",
        "        print(\"커피가 다 떨어졌습니다. 판매를 중지합니다.\")\n",
        "        break\n"
      ],
      "execution_count": 33,
      "outputs": [
        {
          "output_type": "stream",
          "text": [
            "while문 강제로 빠져나가기\n",
            "돈을 받았으니 커피를 줍니다.\n",
            "남은 커피의 양은 9개입니다.\n",
            "돈을 받았으니 커피를 줍니다.\n",
            "남은 커피의 양은 8개입니다.\n",
            "돈을 받았으니 커피를 줍니다.\n",
            "남은 커피의 양은 7개입니다.\n",
            "돈을 받았으니 커피를 줍니다.\n",
            "남은 커피의 양은 6개입니다.\n",
            "돈을 받았으니 커피를 줍니다.\n",
            "남은 커피의 양은 5개입니다.\n",
            "돈을 받았으니 커피를 줍니다.\n",
            "남은 커피의 양은 4개입니다.\n",
            "돈을 받았으니 커피를 줍니다.\n",
            "남은 커피의 양은 3개입니다.\n",
            "돈을 받았으니 커피를 줍니다.\n",
            "남은 커피의 양은 2개입니다.\n",
            "돈을 받았으니 커피를 줍니다.\n",
            "남은 커피의 양은 1개입니다.\n",
            "돈을 받았으니 커피를 줍니다.\n",
            "남은 커피의 양은 0개입니다.\n",
            "커피가 다 떨어졌습니다. 판매를 중지합니다.\n"
          ],
          "name": "stdout"
        }
      ]
    },
    {
      "cell_type": "code",
      "metadata": {
        "id": "7StnbFvRbM7-"
      },
      "source": [
        "###################################\n",
        "# coffee.py\n",
        "###################################\n",
        "\"\"\"\n",
        "coffee = 10\n",
        "while True:\n",
        "    money = int(input(\"돈을 넣어 주세요: \"))\n",
        "    if money == 300:\n",
        "        print(\"커피를 줍니다.\")\n",
        "        coffee = coffee -1\n",
        "    elif money > 300:\n",
        "        print(\"거스름돈 %d를 주고 커피를 줍니다.\" % (money -300))\n",
        "        coffee = coffee -1\n",
        "    else:\n",
        "        print(\"돈을 다시 돌려주고 커피를 주지 않습니다.\")\n",
        "        print(\"남은 커피의 양은 %d개 입니다.\" % coffee)\n",
        "    if coffee == 0:\n",
        "        print(\"커피가 다 떨어졌습니다. 판매를 중지 합니다.\")\n",
        "        break\n",
        "\"\"\"\n"
      ],
      "execution_count": null,
      "outputs": []
    },
    {
      "cell_type": "markdown",
      "metadata": {
        "id": "b0V_JHpKcIBb"
      },
      "source": [
        "### colab에서 python 소스로 실행하기\n",
        "- run coffe.py"
      ]
    },
    {
      "cell_type": "code",
      "metadata": {
        "colab": {
          "base_uri": "https://localhost:8080/"
        },
        "id": "iS-Sr8DdctqJ",
        "outputId": "a615a63c-5560-40bb-863f-359ceaee15bc"
      },
      "source": [
        "run coffee.py"
      ],
      "execution_count": 36,
      "outputs": [
        {
          "output_type": "stream",
          "text": [
            "돈을 넣어 주세요: 300\n",
            "커피를 줍니다.\n",
            "돈을 넣어 주세요: 300\n",
            "커피를 줍니다.\n",
            "돈을 넣어 주세요: 500\n",
            "거스름돈 200를 주고 커피를 줍니다.\n",
            "돈을 넣어 주세요: 900\n",
            "거스름돈 600를 주고 커피를 줍니다.\n",
            "돈을 넣어 주세요: 500\n",
            "거스름돈 200를 주고 커피를 줍니다.\n",
            "돈을 넣어 주세요: 30000\n",
            "거스름돈 29700를 주고 커피를 줍니다.\n",
            "돈을 넣어 주세요: 200\n",
            "돈을 다시 돌려주고 커피를 주지 않습니다.\n",
            "남은 커피의 양은 4개 입니다.\n",
            "돈을 넣어 주세요: 300\n",
            "커피를 줍니다.\n",
            "돈을 넣어 주세요: 500\n",
            "거스름돈 200를 주고 커피를 줍니다.\n",
            "돈을 넣어 주세요: 300\n",
            "커피를 줍니다.\n",
            "돈을 넣어 주세요: 500\n",
            "거스름돈 200를 주고 커피를 줍니다.\n",
            "커피가 다 떨어졌습니다. 판매를 중지 합니다.\n"
          ],
          "name": "stdout"
        }
      ]
    },
    {
      "cell_type": "code",
      "metadata": {
        "colab": {
          "base_uri": "https://localhost:8080/"
        },
        "id": "cnKk5-ErbgeP",
        "outputId": "077209a2-f48e-4853-ac56-191b688af41a"
      },
      "source": [
        "coffee = 10\n",
        "while True:\n",
        "    money = int(input(\"돈을 넣어 주세요: \"))\n",
        "    if money == 300:\n",
        "        print(\"커피를 줍니다.\")\n",
        "        coffee = coffee -1\n",
        "    elif money > 300:\n",
        "        print(\"거스름돈 %d를 주고 커피를 줍니다.\" % (money -300))\n",
        "        coffee = coffee -1\n",
        "    else:\n",
        "        print(\"돈을 다시 돌려주고 커피를 주지 않습니다.\")\n",
        "        print(\"남은 커피의 양은 %d개 입니다.\" % coffee)\n",
        "    if coffee == 0:\n",
        "        print(\"커피가 다 떨어졌습니다. 판매를 중지 합니다.\")\n",
        "        break\n",
        "        "
      ],
      "execution_count": 35,
      "outputs": [
        {
          "output_type": "stream",
          "text": [
            "돈을 넣어 주세요: 300\n",
            "커피를 줍니다.\n",
            "돈을 넣어 주세요: 400\n",
            "거스름돈 100를 주고 커피를 줍니다.\n",
            "돈을 넣어 주세요: 300\n",
            "커피를 줍니다.\n",
            "돈을 넣어 주세요: 500\n",
            "거스름돈 200를 주고 커피를 줍니다.\n",
            "돈을 넣어 주세요: 600\n",
            "거스름돈 300를 주고 커피를 줍니다.\n",
            "돈을 넣어 주세요: 300\n",
            "커피를 줍니다.\n",
            "돈을 넣어 주세요: 300\n",
            "커피를 줍니다.\n",
            "돈을 넣어 주세요: 300\n",
            "커피를 줍니다.\n",
            "돈을 넣어 주세요: 30\n",
            "돈을 다시 돌려주고 커피를 주지 않습니다.\n",
            "남은 커피의 양은 2개 입니다.\n",
            "돈을 넣어 주세요: 300\n",
            "커피를 줍니다.\n",
            "돈을 넣어 주세요: 3000\n",
            "거스름돈 2700를 주고 커피를 줍니다.\n",
            "커피가 다 떨어졌습니다. 판매를 중지 합니다.\n"
          ],
          "name": "stdout"
        }
      ]
    },
    {
      "cell_type": "code",
      "metadata": {
        "colab": {
          "base_uri": "https://localhost:8080/"
        },
        "id": "XC8XVSn1bY5n",
        "outputId": "bd9df77c-91e5-4c30-c767-77061c412b59"
      },
      "source": [
        "#\n",
        "###################################\n",
        "print(\"while문의 맨 처음으로 돌아가기: continue\")\n",
        "###################################\n",
        "# while문을 빠져나가지 않고 while문의 맨 처음(조건문)으로 \n",
        "# 다시 돌아가게 만들고 싶은 경우가 생기게 된다. \n",
        "# 이때 사용하는 것이 바로 continue문이다.\n",
        "#\n",
        "# 1부터 10까지의 숫자 중에서 홀수만 출력하는 것을 while문을 사용해서 작성\n",
        "#\n",
        "a = 0\n",
        "while a < 10:\n",
        "    a = a + 1\n",
        "    if a % 2 == 0: continue\n",
        "    print(a)\n"
      ],
      "execution_count": 38,
      "outputs": [
        {
          "output_type": "stream",
          "text": [
            "while문의 맨 처음으로 돌아가기: continue\n",
            "1\n",
            "3\n",
            "5\n",
            "7\n",
            "9\n"
          ],
          "name": "stdout"
        }
      ]
    },
    {
      "cell_type": "code",
      "metadata": {
        "id": "HfHBw_whdHUe"
      },
      "source": [
        "#\n",
        "###################################\n",
        "print(\"while문의 무한 루프\")\n",
        "###################################\n",
        "#\n",
        "\"\"\"\n",
        "while True: \n",
        "    수행할 문장1 \n",
        "    수행할 문장2\n",
        "    ...\n",
        "\"\"\"\n",
        "# 무한루프 코드의 예 (^C로 중지 !!!--->>>파이썬 명령 셀)\n",
        "while True:\n",
        "    print(\"Ctrl+C를 눌러야 while문을 빠져나갈 수 있습니다.\")\n",
        "\n"
      ],
      "execution_count": null,
      "outputs": []
    },
    {
      "cell_type": "code",
      "metadata": {
        "id": "Nn87uHUqtW64"
      },
      "source": [
        ""
      ],
      "execution_count": null,
      "outputs": []
    }
  ]
}