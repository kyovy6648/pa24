{
  "nbformat": 4,
  "nbformat_minor": 0,
  "metadata": {
    "colab": {
      "name": "ch4_code01-pa24.ipynb",
      "provenance": [],
      "collapsed_sections": [],
      "include_colab_link": true
    },
    "kernelspec": {
      "display_name": "Python 3",
      "language": "python",
      "name": "python3"
    },
    "language_info": {
      "codemirror_mode": {
        "name": "ipython",
        "version": 3
      },
      "file_extension": ".py",
      "mimetype": "text/x-python",
      "name": "python",
      "nbconvert_exporter": "python",
      "pygments_lexer": "ipython3",
      "version": "3.7.5"
    }
  },
  "cells": [
    {
      "cell_type": "markdown",
      "metadata": {
        "id": "view-in-github",
        "colab_type": "text"
      },
      "source": [
        "<a href=\"https://colab.research.google.com/github/kyovy6648/pa24/blob/main/ch4/ch4_code01_pa24.ipynb\" target=\"_parent\"><img src=\"https://colab.research.google.com/assets/colab-badge.svg\" alt=\"Open In Colab\"/></a>"
      ]
    },
    {
      "cell_type": "markdown",
      "metadata": {
        "id": "H4jNE-BMAK3f"
      },
      "source": [
        "# ch4_code01.ipynb\n",
        "## pa24  (change to your id)\n",
        "- 파이썬 함수\n",
        "    - 입력값을 가지고 어떤 일을 수행한 다음에 그 결과물을 출력\n",
        "        - 반복되는 부분을 함수로 전환.\n",
        "        - 코딩을 모듈화\n",
        "- 매개변수와 인수\n",
        "- 입력값과 결괏값\n",
        "    - return\n",
        "    - 여러 개의 입력을 처리하는 함수(*args)\n",
        "    - 키워드 파라미터 (kwargs)\n",
        "    - 매개변수에 초깃값 미리 설정\n",
        "- lambda 함수 정의"
      ]
    },
    {
      "cell_type": "code",
      "metadata": {
        "id": "hXPcvn1CtW6z",
        "colab": {
          "base_uri": "https://localhost:8080/"
        },
        "outputId": "55afcca7-2784-404b-bca1-d2bdcb9820e5"
      },
      "source": [
        "# ch4_01_function.py\n",
        "#\n",
        "print(\"함수란 무엇인가?\")\n",
        "#######################################\n",
        "# 입력값을 가지고 어떤 일을 수행한 다음에 \n",
        "# 그 결과물을 내어놓는 것\n",
        "#######################################\n",
        "print(\"==..\",\"입력 값을 가지고 어떤 일을 수행한 다음에 그 결과물을 내어놓는 것\")\n",
        "\n",
        "print(\"함수를 사용하는 이유는 무엇일까?\")\n",
        "#######################################\n",
        "# 반복되는 부분을 함수로 전환.\n",
        "# 코딩을 모듈화\n",
        "#######################################\n"
      ],
      "execution_count": 2,
      "outputs": [
        {
          "output_type": "stream",
          "text": [
            "함수란 무엇인가?\n",
            "==.. 입력 값을 가지고 어떤 일을 수행한 다음에 그 결과물을 내어놓는 것\n",
            "함수를 사용하는 이유는 무엇일까?\n"
          ],
          "name": "stdout"
        }
      ]
    },
    {
      "cell_type": "code",
      "metadata": {
        "id": "FTOpKpdHzfTM",
        "colab": {
          "base_uri": "https://localhost:8080/",
          "height": 52
        },
        "outputId": "333a36f3-c947-49b8-a5db-3d90326cf930"
      },
      "source": [
        "print(\"파이썬 함수의 구조\")\n",
        "#######################################\n",
        "\"\"\"\n",
        "def 함수명(매개변수):\n",
        "    <수행할 문장1>\n",
        "    <수행할 문장2>\n",
        "    ...\n",
        "\"\"\""
      ],
      "execution_count": 3,
      "outputs": [
        {
          "output_type": "stream",
          "text": [
            "파이썬 함수의 구조\n"
          ],
          "name": "stdout"
        },
        {
          "output_type": "execute_result",
          "data": {
            "application/vnd.google.colaboratory.intrinsic+json": {
              "type": "string"
            },
            "text/plain": [
              "'\\ndef 함수명(매개변수):\\n    <수행할 문장1>\\n    <수행할 문장2>\\n    ...\\n'"
            ]
          },
          "metadata": {
            "tags": []
          },
          "execution_count": 3
        }
      ]
    },
    {
      "cell_type": "code",
      "metadata": {
        "id": "daYOgIYZ1cQB"
      },
      "source": [
        "def add(a):\n",
        "  print(a)"
      ],
      "execution_count": 4,
      "outputs": []
    },
    {
      "cell_type": "code",
      "metadata": {
        "colab": {
          "base_uri": "https://localhost:8080/"
        },
        "id": "Ixeun_db1hmk",
        "outputId": "a6c53ed5-52ae-454a-eb0c-e757d5aa26e6"
      },
      "source": [
        "add(100)\n",
        "add(\"pa24\")"
      ],
      "execution_count": 7,
      "outputs": [
        {
          "output_type": "stream",
          "text": [
            "100\n",
            "pa24\n"
          ],
          "name": "stdout"
        }
      ]
    },
    {
      "cell_type": "code",
      "metadata": {
        "id": "pSjXxKD31WaV"
      },
      "source": [
        "#######################################\n",
        "# add() 함수를 정의\n",
        "def add(a, b): \n",
        "    return a + b\n"
      ],
      "execution_count": 8,
      "outputs": []
    },
    {
      "cell_type": "code",
      "metadata": {
        "colab": {
          "base_uri": "https://localhost:8080/"
        },
        "id": "rweLQi5j1xwr",
        "outputId": "b9efa79c-824d-478b-a0e7-10745f0c8a66"
      },
      "source": [
        "\n",
        "\n",
        "# add() 함수를 사용\n",
        "a=3\n",
        "b=4\n",
        "c=add(a,b)\n",
        "print(c)\n",
        "\n",
        "x=[1,2,3]\n",
        "y=[4,5,6]\n",
        "z=x+y\n",
        "print(z)\n",
        "#\n"
      ],
      "execution_count": 9,
      "outputs": [
        {
          "output_type": "stream",
          "text": [
            "7\n",
            "[1, 2, 3, 4, 5, 6]\n"
          ],
          "name": "stdout"
        }
      ]
    },
    {
      "cell_type": "code",
      "metadata": {
        "colab": {
          "base_uri": "https://localhost:8080/"
        },
        "id": "p5_ykxbn15UG",
        "outputId": "c88c0d49-819d-42f7-af56-1d8c73eb6733"
      },
      "source": [
        "z=add(x,y)\n",
        "print(z)"
      ],
      "execution_count": 10,
      "outputs": [
        {
          "output_type": "stream",
          "text": [
            "[1, 2, 3, 4, 5, 6]\n"
          ],
          "name": "stdout"
        }
      ]
    },
    {
      "cell_type": "code",
      "metadata": {
        "colab": {
          "base_uri": "https://localhost:8080/"
        },
        "id": "WXgIHahx19eu",
        "outputId": "477e09b7-5c45-4af0-c473-27ccd6601b81"
      },
      "source": [
        "w=add(\"hello\", \" Python!\")\n",
        "print(w)"
      ],
      "execution_count": 13,
      "outputs": [
        {
          "output_type": "stream",
          "text": [
            "hello Python!\n"
          ],
          "name": "stdout"
        }
      ]
    },
    {
      "cell_type": "markdown",
      "metadata": {
        "id": "mmajoDsE2LDK"
      },
      "source": [
        "### 매개변수와 인수"
      ]
    },
    {
      "cell_type": "code",
      "metadata": {
        "id": "GXkd7bAK1tUj"
      },
      "source": [
        "\n",
        "print(\"매개변수와 인수의 차이를 이해하자!\")\n",
        "#######################################\n",
        "# 매개변수는 함수에 입력으로 전달된 값을 받는 변수\n",
        "# 인수는 함수를 호출할 때 전달하는 입력값을 의미\n",
        "#######################################\n",
        "# add() 함수에서의 매개변수와 인수\n",
        "\"\"\"\n",
        "def add(a, b):  # a, b는 매개변수\n",
        "    return a+b\n",
        "print(add(3, 4))  # 3, 4는 인수\n",
        "\"\"\""
      ],
      "execution_count": null,
      "outputs": []
    },
    {
      "cell_type": "code",
      "metadata": {
        "colab": {
          "base_uri": "https://localhost:8080/"
        },
        "id": "k-au3Sw12V3u",
        "outputId": "bd96cb3a-3209-4963-c038-218d6c79633e"
      },
      "source": [
        "print(add(a,b))\n",
        "print(add(10,50))"
      ],
      "execution_count": 16,
      "outputs": [
        {
          "output_type": "stream",
          "text": [
            "7\n",
            "60\n"
          ],
          "name": "stdout"
        }
      ]
    },
    {
      "cell_type": "markdown",
      "metadata": {
        "id": "N7z8XwgL2gdy"
      },
      "source": [
        "### 함수의 결괏값 (return...)"
      ]
    },
    {
      "cell_type": "code",
      "metadata": {
        "colab": {
          "base_uri": "https://localhost:8080/"
        },
        "id": "Le9YUJch2SM0",
        "outputId": "6ee0737a-10db-46f3-ef8a-684411cf21d4"
      },
      "source": [
        "print(\"입력값과 결괏값에 따른 함수의 형태\")\n",
        "#######################################\n",
        "# 입력값 ---> 함수 ----> 결괏값\n",
        "#######################################\n",
        "# 일반적인 함수\n",
        "# 입력값과 결괏값이 있는 함수\n",
        "\"\"\"\n",
        "def 함수이름(매개변수):\n",
        "    <수행할 문장>\n",
        "    ...\n",
        "    return 결과값\n",
        "\"\"\"\n",
        "\n",
        "def add2(a, b): \n",
        "    result = a + b \n",
        "    return result\n",
        "\n",
        "\n",
        "# 입력값과 결괏값이 있는 함수의 사용법\n",
        "# 결괏값을 받을 변수 = 함수이름(입력인수1, 입력인수2, ...)\n",
        "a = add2(3, 4)\n",
        "print(a)\n"
      ],
      "execution_count": 17,
      "outputs": [
        {
          "output_type": "stream",
          "text": [
            "입력값과 결괏값에 따른 함수의 형태\n",
            "7\n"
          ],
          "name": "stdout"
        }
      ]
    },
    {
      "cell_type": "code",
      "metadata": {
        "colab": {
          "base_uri": "https://localhost:8080/"
        },
        "id": "eDvYr9wz2qSB",
        "outputId": "12c3370e-0aa6-4fd4-974e-cc8eed2819b9"
      },
      "source": [
        "\n",
        "#######################################\n",
        "# 입력값이 없는 함수\n",
        "\n",
        "def say(): \n",
        "    return 'Hi'\n",
        "\n",
        "\n",
        "# 입력값이 없는 함수의 사용법\n",
        "# 결괏값을 받을 변수 = 함수이름()\n",
        "a = say()\n",
        "print(a)\n",
        "\n"
      ],
      "execution_count": 18,
      "outputs": [
        {
          "output_type": "stream",
          "text": [
            "Hi\n"
          ],
          "name": "stdout"
        }
      ]
    },
    {
      "cell_type": "code",
      "metadata": {
        "colab": {
          "base_uri": "https://localhost:8080/"
        },
        "id": "LWKITzGm2wMR",
        "outputId": "47077941-e6f0-4418-997f-bc17fdf55d7b"
      },
      "source": [
        "#######################################\n",
        "# 결괏값이 없는 함수\n",
        "\n",
        "def add3(a, b): \n",
        "    print(\"%d, %d의 합은 %d입니다.\" % (a, b, a+b))\n",
        "\n",
        "\n",
        "# 결괏값이 없는 함수의 사용법\n",
        "# 함수이름(입력인수1, 입력인수2, ...)\n",
        "add3(3, 4)\n",
        "\n",
        "# 다음 결과는 무엇인가?\n",
        "a = add3(3, 4)\n",
        "print(a)\n",
        "# "
      ],
      "execution_count": 19,
      "outputs": [
        {
          "output_type": "stream",
          "text": [
            "3, 4의 합은 7입니다.\n",
            "3, 4의 합은 7입니다.\n",
            "None\n"
          ],
          "name": "stdout"
        }
      ]
    },
    {
      "cell_type": "code",
      "metadata": {
        "colab": {
          "base_uri": "https://localhost:8080/",
          "height": 35
        },
        "id": "XVWhMowk25LE",
        "outputId": "feb1c0b4-6120-42a3-82a2-9c40c6d25724"
      },
      "source": [
        "#######################################\n",
        "# 입력값도 결괏값도 없는 함수\n",
        "\n",
        "def say2(): \n",
        "    print('Hi')\n",
        "\n",
        "\n",
        "# 입력값도 결괏값도 없는 함수의 사용법\n",
        "# 함수이름()\n",
        "say()\n",
        "\n"
      ],
      "execution_count": 20,
      "outputs": [
        {
          "output_type": "execute_result",
          "data": {
            "application/vnd.google.colaboratory.intrinsic+json": {
              "type": "string"
            },
            "text/plain": [
              "'Hi'"
            ]
          },
          "metadata": {
            "tags": []
          },
          "execution_count": 20
        }
      ]
    },
    {
      "cell_type": "code",
      "metadata": {
        "colab": {
          "base_uri": "https://localhost:8080/"
        },
        "id": "A5bKBnAa2_8P",
        "outputId": "a535f3ed-cc01-468f-ee98-e59d494de928"
      },
      "source": [
        "#######################################\n",
        "print(\"매개변수의 값을 지정하여 호출하기\")\n",
        "#######################################\n",
        "def add4(a, b):\n",
        "    return a+b\n",
        "\n",
        "\n",
        "result = add4(a=3, b=7)  # a에 3, b에 7을 전달\n",
        "print(result)\n",
        "# 매개변수의 순서에 상관없이 사용\n",
        "result = add4(b=5, a=3)  # b에 5, a에 3을 전달\n",
        "print(result)\n",
        "#######################################"
      ],
      "execution_count": 21,
      "outputs": [
        {
          "output_type": "stream",
          "text": [
            "매개변수의 값을 지정하여 호출하기\n",
            "10\n",
            "8\n"
          ],
          "name": "stdout"
        }
      ]
    },
    {
      "cell_type": "code",
      "metadata": {
        "colab": {
          "base_uri": "https://localhost:8080/"
        },
        "id": "R56PCc8w3N4d",
        "outputId": "60523989-a40b-4323-95f3-c81fa17c7928"
      },
      "source": [
        "result3=add4(b=7,a=3)\n",
        "print(result3)\n"
      ],
      "execution_count": 22,
      "outputs": [
        {
          "output_type": "stream",
          "text": [
            "10\n"
          ],
          "name": "stdout"
        }
      ]
    },
    {
      "cell_type": "markdown",
      "metadata": {
        "id": "UCfFkdCz3gpG"
      },
      "source": [
        "### *args\n",
        "- arg:argument"
      ]
    },
    {
      "cell_type": "code",
      "metadata": {
        "colab": {
          "base_uri": "https://localhost:8080/"
        },
        "id": "NYHgP_ig3Jxk",
        "outputId": "0380460d-cc54-44d8-8eff-9a90e3e55e3b"
      },
      "source": [
        "#######################################\n",
        "print(\"입력값이 몇 개가 될지 모를 때는 어떻게 해야 할까?\")\n",
        "#######################################\n",
        "\"\"\"\n",
        "def 함수이름(*매개변수): \n",
        "    <수행할 문장>\n",
        "    ...\n",
        "\"\"\"\n",
        "\n",
        "def add_many(*args):\n",
        "    result = 0 \n",
        "    for i in args: \n",
        "        result = result + i \n",
        "    return result \n",
        "\n"
      ],
      "execution_count": 23,
      "outputs": [
        {
          "output_type": "stream",
          "text": [
            "입력값이 몇 개가 될지 모를 때는 어떻게 해야 할까?\n"
          ],
          "name": "stdout"
        }
      ]
    },
    {
      "cell_type": "code",
      "metadata": {
        "colab": {
          "base_uri": "https://localhost:8080/"
        },
        "id": "ZvA6yL6K30XX",
        "outputId": "c627268b-2886-418d-a63c-dd54fff3be37"
      },
      "source": [
        "add_many(1,2,3)"
      ],
      "execution_count": 25,
      "outputs": [
        {
          "output_type": "execute_result",
          "data": {
            "text/plain": [
              "6"
            ]
          },
          "metadata": {
            "tags": []
          },
          "execution_count": 25
        }
      ]
    },
    {
      "cell_type": "code",
      "metadata": {
        "colab": {
          "base_uri": "https://localhost:8080/"
        },
        "id": "3yqzu_oF3ql3",
        "outputId": "73a128d2-0de9-445a-c3ff-67dd3847dc0c"
      },
      "source": [
        "add_many(1, 2, 3)\n",
        "add_many(1, 2, 3, 4, 5, 6, 7, 8, 9)\n",
        "\n",
        "result = add_many(1,2,3,4,5,6,7,8,9,10)\n",
        "print(result)"
      ],
      "execution_count": 26,
      "outputs": [
        {
          "output_type": "stream",
          "text": [
            "55\n"
          ],
          "name": "stdout"
        }
      ]
    },
    {
      "cell_type": "code",
      "metadata": {
        "colab": {
          "base_uri": "https://localhost:8080/"
        },
        "id": "yhFF7YNu3vAK",
        "outputId": "3619d968-7f5f-4271-d509-7bdf785ea1e3"
      },
      "source": [
        "#######################################\n",
        "print(\"여러 개의 입력을 처리하는 함수(*args)\")\n",
        "#######################################\n",
        "\n",
        "def add_mul(choice, *args):\n",
        "    if choice == \"add\":\n",
        "        result = 0 \n",
        "        for i in args:\n",
        "            result = result + i \n",
        "    elif choice == \"mul\":\n",
        "        result = 1 \n",
        "        for i in args: \n",
        "            result = result * i \n",
        "    return result \n",
        "\n",
        "# add\n",
        "result = add_mul('add', 1,2,3,4,5)\n",
        "print(result)\n",
        "# multiply\n",
        "result = add_mul('mul', 1,2,3,4,5)\n",
        "print(result)\n"
      ],
      "execution_count": 27,
      "outputs": [
        {
          "output_type": "stream",
          "text": [
            "여러 개의 입력을 처리하는 함수(*args)\n",
            "15\n",
            "120\n"
          ],
          "name": "stdout"
        }
      ]
    },
    {
      "cell_type": "markdown",
      "metadata": {
        "id": "aVuVh1HU4QnA"
      },
      "source": [
        "### 키워드 파라미터 **kwargs"
      ]
    },
    {
      "cell_type": "code",
      "metadata": {
        "colab": {
          "base_uri": "https://localhost:8080/"
        },
        "id": "OxWKzrUX4IEu",
        "outputId": "e5d3b475-a3b4-4b03-ff32-8b392205bc43"
      },
      "source": [
        "#\n",
        "#######################################\n",
        "print(\"키워드 파라미터 kwargs\")\n",
        "#######################################\n",
        "\n",
        "def print_kwargs(**kwargs):\n",
        "    print(kwargs)\n",
        "\n",
        "\n",
        "# print_kwargs 함수는 매개변수 kwargs를 출력하는 함수\n",
        "#\n",
        "print_kwargs(a=1)\n",
        "\n",
        "print_kwargs(name='foo', age=3)\n",
        "\n",
        "#\n",
        "# **kwargs처럼 매개변수 이름 앞에 **을 붙이면 매개변수 \n",
        "# kwargs는 딕셔너리가 되고 모든 key=value 형태의 결괏값이 \n",
        "# 그 딕셔너리에 저장된다.\n",
        "#"
      ],
      "execution_count": 28,
      "outputs": [
        {
          "output_type": "stream",
          "text": [
            "키워드 파라미터 kwargs\n",
            "{'a': 1}\n",
            "{'name': 'foo', 'age': 3}\n"
          ],
          "name": "stdout"
        }
      ]
    },
    {
      "cell_type": "code",
      "metadata": {
        "colab": {
          "base_uri": "https://localhost:8080/"
        },
        "id": "nac_CPo04W1b",
        "outputId": "ea7fdda2-2887-4341-9735-fecf786934f0"
      },
      "source": [
        "#######################################\n",
        "print(\"함수의 결괏값은 언제나 하나\")\n",
        "#######################################\n",
        "#\n",
        "def add_and_mul(a,b): \n",
        "    return a+b, a*b\n",
        "\n",
        "\n",
        "# add_and_mul() 사용 1.\n",
        "result = add_and_mul(3,4)\n",
        "\n",
        "print(result)"
      ],
      "execution_count": 29,
      "outputs": [
        {
          "output_type": "stream",
          "text": [
            "함수의 결괏값은 언제나 하나\n",
            "(7, 12)\n"
          ],
          "name": "stdout"
        }
      ]
    },
    {
      "cell_type": "code",
      "metadata": {
        "colab": {
          "base_uri": "https://localhost:8080/"
        },
        "id": "iIkb1fif4wsR",
        "outputId": "2beafc4d-53ef-46ff-895e-0b609e7008cc"
      },
      "source": [
        "# add_and_mul() 사용 2.\n",
        "result1, result2 = add_and_mul(3, 4)\n",
        "\n",
        "result1, result2\n"
      ],
      "execution_count": 30,
      "outputs": [
        {
          "output_type": "execute_result",
          "data": {
            "text/plain": [
              "(7, 12)"
            ]
          },
          "metadata": {
            "tags": []
          },
          "execution_count": 30
        }
      ]
    },
    {
      "cell_type": "markdown",
      "metadata": {
        "id": "Fg6eo8Aq4_HK"
      },
      "source": [
        "### 잘못된 함수 사용"
      ]
    },
    {
      "cell_type": "code",
      "metadata": {
        "colab": {
          "base_uri": "https://localhost:8080/"
        },
        "id": "FPpbS4wU43oW",
        "outputId": "b635a86f-b111-4207-a757-1b37ecc82bd3"
      },
      "source": [
        "#######################################\n",
        "print(\"잘못된 함수\")\n",
        "#######################################\n",
        "def add_and_mul2(a,b): \n",
        "    return a+b \n",
        "    return a*b  # Not working!!\n",
        "\n",
        "\n",
        "result = add_and_mul2(2, 3)\n",
        "print(result)"
      ],
      "execution_count": 31,
      "outputs": [
        {
          "output_type": "stream",
          "text": [
            "잘못된 함수\n",
            "5\n"
          ],
          "name": "stdout"
        }
      ]
    },
    {
      "cell_type": "markdown",
      "metadata": {
        "id": "wP8eNns65GDR"
      },
      "source": [
        "### return 의 용도"
      ]
    },
    {
      "cell_type": "code",
      "metadata": {
        "colab": {
          "base_uri": "https://localhost:8080/"
        },
        "id": "os5pA1oO475j",
        "outputId": "98345126-7070-4e96-ad36-65e800fd420a"
      },
      "source": [
        "#######################################\n",
        "print(\"return 의 용도: 함수 실행 종료\")\n",
        "#######################################\n",
        "def say_nick(nick): \n",
        "    if nick == \"바보\": \n",
        "        return \n",
        "    print(\"나의 별명은 %s 입니다.\" % nick)\n",
        "\n",
        "\n",
        "say_nick(\"홍길동\")\n",
        "say_nick(\"바보\")"
      ],
      "execution_count": 32,
      "outputs": [
        {
          "output_type": "stream",
          "text": [
            "return 의 용도: 함수 실행 종료\n",
            "나의 별명은 홍길동 입니다.\n"
          ],
          "name": "stdout"
        }
      ]
    },
    {
      "cell_type": "markdown",
      "metadata": {
        "id": "nfAcVTw95VMa"
      },
      "source": [
        "### 매개변수에 초깃값 미리 설정하기"
      ]
    },
    {
      "cell_type": "code",
      "metadata": {
        "colab": {
          "base_uri": "https://localhost:8080/"
        },
        "id": "wTUFLr1L5Jy_",
        "outputId": "ba480ae6-3407-4161-e248-f17d4c663cf0"
      },
      "source": [
        "#----------------------------------------\n",
        "#######################################\n",
        "print(\"매개변수에 초깃값 미리 설정하기\")\n",
        "#######################################\n",
        "def say_myself(name, old, man=True): \n",
        "    print(\"나의 이름은 %s 입니다.\" % name) \n",
        "    print(\"나이는 %d살입니다.\" % old) \n",
        "    if man: \n",
        "        print(\"남자입니다.\")\n",
        "    else: \n",
        "        print(\"여자입니다.\")\n",
        "    \n",
        "\n",
        "#say_myself(\"박응용\", 27)\n",
        "#say_myself(\"박응용\", 27, True)\n",
        "\n",
        "say_myself(\"박응용\", 27, False)"
      ],
      "execution_count": 34,
      "outputs": [
        {
          "output_type": "stream",
          "text": [
            "매개변수에 초깃값 미리 설정하기\n",
            "나의 이름은 박응용 입니다.\n",
            "나이는 27살입니다.\n",
            "여자입니다.\n"
          ],
          "name": "stdout"
        }
      ]
    },
    {
      "cell_type": "code",
      "metadata": {
        "colab": {
          "base_uri": "https://localhost:8080/",
          "height": 145
        },
        "id": "8l6iE0n55TuU",
        "outputId": "81bab4b0-46ab-49bf-e049-34334cf35e50"
      },
      "source": [
        "def say_myself2(name, man=True, old): \n",
        "    print(\"나의 이름은 %s 입니다.\" % name) \n",
        "    print(\"나이는 %d살입니다.\" % old) \n",
        "    if man: \n",
        "        print(\"남자입니다.\") \n",
        "    else:\n",
        "        print(\"여자입니다.\")\n",
        "    \n",
        "\"\"\"\n",
        "# 초깃값을 설정해 놓은 매개변수 뒤에 \n",
        "# 초깃값을 설정해 놓지 않은 매개변수는 사용할 수 없다\n",
        "# 초기화시키고 싶은 매개변수를 항상 뒤쪽에 놓는다.\n",
        "# 키워드형식의 매개변수는 항상 뒤에 지정.\n"
      ],
      "execution_count": 38,
      "outputs": [
        {
          "output_type": "error",
          "ename": "SyntaxError",
          "evalue": "ignored",
          "traceback": [
            "\u001b[0;36m  File \u001b[0;32m\"<ipython-input-38-5141e9d4017e>\"\u001b[0;36m, line \u001b[0;32m13\u001b[0m\n\u001b[0;31m    # 키워드형식의 매개변수는 항상 뒤에 지정.\u001b[0m\n\u001b[0m                            \n^\u001b[0m\n\u001b[0;31mSyntaxError\u001b[0m\u001b[0;31m:\u001b[0m EOF while scanning triple-quoted string literal\n"
          ]
        }
      ]
    },
    {
      "cell_type": "code",
      "metadata": {
        "id": "tVmqX_we5-Dj"
      },
      "source": [
        "def say_myself2(name,old, man=True): \n",
        "    print(\"나의 이름은 %s 입니다.\" % name) \n",
        "    print(\"나이는 %d살입니다.\" % old) \n",
        "    if man: \n",
        "        print(\"남자입니다.\") \n",
        "    else:\n",
        "        print(\"여자입니다.\")\n",
        "\n",
        "\n",
        "        say_myself2(\"설지현\",21)"
      ],
      "execution_count": 49,
      "outputs": []
    },
    {
      "cell_type": "markdown",
      "metadata": {
        "id": "cK6h5Hhl6m93"
      },
      "source": [
        "### 함수 안에서 선언한 변수의 효력 범위\n",
        "- scope of a variable"
      ]
    },
    {
      "cell_type": "code",
      "metadata": {
        "colab": {
          "base_uri": "https://localhost:8080/"
        },
        "id": "XJsd2X-G56OP",
        "outputId": "b73e3556-ee7c-4f37-c6a9-801fb801619b"
      },
      "source": [
        "#######################################\n",
        "print(\"함수 안에서 선언한 변수의 효력 범위\")\n",
        "# 전역변수\n",
        "# 지역 변수, 자동 변수\n",
        "#######################################\n",
        "\n",
        "# vartest.py\n",
        "a = 1 #전역 변수\n",
        "def vartest(a): #지역변수(매개변수)\n",
        "    a = a +1    \n",
        "\n",
        "vartest(a)\n",
        "print(a)\n"
      ],
      "execution_count": 50,
      "outputs": [
        {
          "output_type": "stream",
          "text": [
            "함수 안에서 선언한 변수의 효력 범위\n",
            "1\n"
          ],
          "name": "stdout"
        }
      ]
    },
    {
      "cell_type": "code",
      "metadata": {
        "colab": {
          "base_uri": "https://localhost:8080/"
        },
        "id": "YjG9CteN69Sk",
        "outputId": "62d9a443-3aae-4ee2-b9f0-09552aacc087"
      },
      "source": [
        "a = 1 #전역 변수\n",
        "def vartest(a): #지역변수(매개변수)\n",
        "    a = a +1\n",
        "    print(\"지역변수 a =\", a)\n",
        "\n",
        "vartest(a)\n",
        "print(\"전역변수 a =\", a)"
      ],
      "execution_count": 53,
      "outputs": [
        {
          "output_type": "stream",
          "text": [
            "지역변수 a = 2\n",
            "전역변수 a = 1\n"
          ],
          "name": "stdout"
        }
      ]
    },
    {
      "cell_type": "code",
      "metadata": {
        "colab": {
          "base_uri": "https://localhost:8080/"
        },
        "id": "mc8H7Ujb6tix",
        "outputId": "6ef5c769-2d8f-4f20-b4d9-72f888cd506d"
      },
      "source": [
        "# vartest_error.py\n",
        "def vartest2(z):\n",
        "    z = z + 1\n",
        "\n",
        "vartest2(3)\n",
        "print(z)  # Error\n"
      ],
      "execution_count": 54,
      "outputs": [
        {
          "output_type": "stream",
          "text": [
            "[1, 2, 3, 4, 5, 6]\n"
          ],
          "name": "stdout"
        }
      ]
    },
    {
      "cell_type": "code",
      "metadata": {
        "colab": {
          "base_uri": "https://localhost:8080/"
        },
        "id": "pOFtuiQm7Qds",
        "outputId": "65177217-95a9-4422-c76a-8204db98315f"
      },
      "source": [
        "#######################################\n",
        "print(\"함수 안에서 함수 밖의 변수를 변경하는 방법\")\n",
        "# return 사용\n",
        "# global 변수 사용\n",
        "#######################################\n",
        "# 1. return 사용하기\n",
        "a = 1 \n",
        "def vartest3(a): \n",
        "    a = a +1 \n",
        "    return a\n",
        "\n",
        "a = vartest3(a) \n",
        "print(a)\n"
      ],
      "execution_count": 55,
      "outputs": [
        {
          "output_type": "stream",
          "text": [
            "함수 안에서 함수 밖의 변수를 변경하는 방법\n",
            "2\n"
          ],
          "name": "stdout"
        }
      ]
    },
    {
      "cell_type": "code",
      "metadata": {
        "colab": {
          "base_uri": "https://localhost:8080/"
        },
        "id": "NvgiR16c7XFq",
        "outputId": "509580ed-8614-441f-9a68-582687a405ad"
      },
      "source": [
        "# 2. global 명령어 사용하기 (가능한 사용 X)\n",
        "a = 1 \n",
        "def vartest4(): \n",
        "    global a \n",
        "    a = a+1\n",
        "\n",
        "vartest4() \n",
        "print(a)"
      ],
      "execution_count": 56,
      "outputs": [
        {
          "output_type": "stream",
          "text": [
            "2\n"
          ],
          "name": "stdout"
        }
      ]
    },
    {
      "cell_type": "markdown",
      "metadata": {
        "id": "Dd4HXkJg7p-P"
      },
      "source": [
        "## lamdba 함수 정의\n",
        "- 이름 없는 함수를 정의"
      ]
    },
    {
      "cell_type": "code",
      "metadata": {
        "id": "J8Wqzx_G7rO7"
      },
      "source": [
        ""
      ],
      "execution_count": null,
      "outputs": []
    },
    {
      "cell_type": "code",
      "metadata": {
        "colab": {
          "base_uri": "https://localhost:8080/"
        },
        "id": "g1n-qoky7fha",
        "outputId": "f03f802e-64af-4c3e-b97b-05ba04f5b40e"
      },
      "source": [
        "#--------   lambda  -------------------\n",
        "#######################################\n",
        "print(\"lambda\")\n",
        "#######################################\n",
        "# lambda는 함수를 생성할 때 사용하는 예약어로 def와 동일한 역할을 한다. \n",
        "# 보통 함수를 한줄로 간결하게 만들 때 사용한다.\n",
        "#\n",
        "# lambda 사용법\n",
        "#\n",
        "# lambda 매개변수1, 매개변수2, ... : 매개변수를 이용한 표현식\n",
        "#\n",
        "print(\"lambda를 이용한 add 함수\")\n",
        "\n",
        "add = lambda a, b: a+b\n",
        "\n",
        "result = add(3, 4)\n",
        "print(result)\n",
        "\n",
        "# lambda 예약어로 만든 함수는 return 명령어가 없어도 결괏값을 돌려준다.\n"
      ],
      "execution_count": 57,
      "outputs": [
        {
          "output_type": "stream",
          "text": [
            "lambda\n",
            "lambda를 이용한 add 함수\n",
            "7\n"
          ],
          "name": "stdout"
        }
      ]
    },
    {
      "cell_type": "code",
      "metadata": {
        "colab": {
          "base_uri": "https://localhost:8080/"
        },
        "id": "DuhTRHdT7xt6",
        "outputId": "9ae91031-a754-4f05-afd5-a39c5fbde6e4"
      },
      "source": [
        "################################\n",
        "# lambda 함수의 응용\n",
        "#\n",
        "models = ['K-3000', 'N-1000', 'T-2000', 'X-5000']\n",
        "sorted(models, key=lambda x: x[-4:])\n",
        "\n",
        "# So cool!!!\n"
      ],
      "execution_count": 58,
      "outputs": [
        {
          "output_type": "execute_result",
          "data": {
            "text/plain": [
              "['N-1000', 'T-2000', 'K-3000', 'X-5000']"
            ]
          },
          "metadata": {
            "tags": []
          },
          "execution_count": 58
        }
      ]
    },
    {
      "cell_type": "code",
      "metadata": {
        "id": "Nn87uHUqtW64",
        "colab": {
          "base_uri": "https://localhost:8080/",
          "height": 35
        },
        "outputId": "e5188d96-dd3e-45d0-d9f5-1c694b962ebf"
      },
      "source": [
        "# vartest.py\n",
        "a = 1\n",
        "def vartest(a):\n",
        "    a = a +1\n",
        "    # print(a)\n",
        "\n",
        "vartest(a)\n",
        "print(a)"
      ],
      "execution_count": null,
      "outputs": [
        {
          "output_type": "stream",
          "text": [
            "1\n"
          ],
          "name": "stdout"
        }
      ]
    },
    {
      "cell_type": "code",
      "metadata": {
        "id": "0Y0fMfkPtW62"
      },
      "source": [
        "# function_test.py\n",
        "\n",
        "# scope_test()\n",
        "x = 5\n",
        "\n",
        "\n",
        "def scope_test():\n",
        "    print(x)\n",
        "    print(x+5)\n",
        "    # x += 5\n"
      ],
      "execution_count": 83,
      "outputs": []
    },
    {
      "cell_type": "code",
      "metadata": {
        "colab": {
          "base_uri": "https://localhost:8080/"
        },
        "id": "k0enJedV9laY",
        "outputId": "c6bfae53-6198-41a3-9d4b-d60894f9d268"
      },
      "source": [
        "scope_test()"
      ],
      "execution_count": 82,
      "outputs": [
        {
          "output_type": "stream",
          "text": [
            "5\n",
            "10\n"
          ],
          "name": "stdout"
        }
      ]
    },
    {
      "cell_type": "code",
      "metadata": {
        "id": "L0Kd4Bjb8-KA"
      },
      "source": [
        "# *args : multiple parameters\n",
        "\n",
        "\n",
        "def args_test(*args):\n",
        "    print(type(args))\n",
        "    print(args)\n",
        "    for arg in args:\n",
        "        print(arg)\n",
        "\n"
      ],
      "execution_count": 79,
      "outputs": []
    },
    {
      "cell_type": "code",
      "metadata": {
        "colab": {
          "base_uri": "https://localhost:8080/"
        },
        "id": "ZxvExCIr9fRx",
        "outputId": "fd0ef0dd-d0d3-4590-b843-13f106c43570"
      },
      "source": [
        " args_test(1, 2, 3, 4)"
      ],
      "execution_count": 77,
      "outputs": [
        {
          "output_type": "stream",
          "text": [
            "<class 'tuple'>\n",
            "(1, 2, 3, 4)\n",
            "1\n",
            "2\n",
            "3\n",
            "4\n"
          ],
          "name": "stdout"
        }
      ]
    },
    {
      "cell_type": "code",
      "metadata": {
        "colab": {
          "base_uri": "https://localhost:8080/"
        },
        "id": "jbWkga1e9dVr",
        "outputId": "57bb1b3c-5043-4c85-d3cc-3b96d54cb83d"
      },
      "source": [
        " args_test(list(range(4)))"
      ],
      "execution_count": 78,
      "outputs": [
        {
          "output_type": "stream",
          "text": [
            "<class 'tuple'>\n",
            "([0, 1, 2, 3],)\n",
            "[0, 1, 2, 3]\n"
          ],
          "name": "stdout"
        }
      ]
    },
    {
      "cell_type": "code",
      "metadata": {
        "id": "B4hlxYI29DUA"
      },
      "source": [
        "# **kawargs : keyword arguments\n",
        "\n",
        "\n",
        "def kwarg_test(**kwargs):\n",
        "    print(type(kwargs))\n",
        "    print(kwargs)\n",
        "    for item in kwargs.items():\n",
        "        print(item)\n",
        "\n"
      ],
      "execution_count": 73,
      "outputs": []
    },
    {
      "cell_type": "code",
      "metadata": {
        "colab": {
          "base_uri": "https://localhost:8080/"
        },
        "id": "0ckEppyk9EjT",
        "outputId": "988ca385-eff3-4b74-c99a-2a4cd60dd29b"
      },
      "source": [
        "\n",
        "kwarg_test(a=1, b='hi')\n",
        "kwarg_test(x=[1,2,3], y='Hello')\n"
      ],
      "execution_count": 70,
      "outputs": [
        {
          "output_type": "stream",
          "text": [
            "<class 'dict'>\n",
            "{'a': 1, 'b': 'hi'}\n",
            "('a', 1)\n",
            "('b', 'hi')\n",
            "<class 'dict'>\n",
            "{'x': [1, 2, 3], 'y': 'Hello'}\n",
            "('x', [1, 2, 3])\n",
            "('y', 'Hello')\n"
          ],
          "name": "stdout"
        }
      ]
    },
    {
      "cell_type": "markdown",
      "metadata": {
        "id": "aiBB3U0ge03F"
      },
      "source": [
        "## 도전 코딩\n",
        "- A 학급에 총 10명의 학생이 있다. 이 학생들의 중간고사 점수는 다음과 같다.\n",
        "\n",
        "- A = [70, 60, 55, 75, 95, 90, 80, 80, 85, 100]\n",
        "\n",
        "> 함수를 사용하여 A 학급의 평균 점수를 구해 보자.\n",
        ">> 함수명: average_class(A)\n"
      ]
    },
    {
      "cell_type": "code",
      "metadata": {
        "id": "fGBlcLGN-3pd",
        "colab": {
          "base_uri": "https://localhost:8080/"
        },
        "outputId": "bdad7d9d-8750-4e38-d9d8-b1b9a8108ee8"
      },
      "source": [
        "A = [70, 60, 55, 75, 95, 90, 80, 80, 85, 100]\n",
        "total = 0\n",
        "\n",
        "for score in A:\n",
        "\n",
        "    total += score\n",
        "\n",
        "average = total/10\n",
        "\n",
        "print(average)"
      ],
      "execution_count": 84,
      "outputs": [
        {
          "output_type": "stream",
          "text": [
            "79.0\n"
          ],
          "name": "stdout"
        }
      ]
    }
  ]
}