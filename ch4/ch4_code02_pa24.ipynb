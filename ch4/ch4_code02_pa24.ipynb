{
  "nbformat": 4,
  "nbformat_minor": 0,
  "metadata": {
    "colab": {
      "name": "ch4_code02-pa24.ipynb",
      "provenance": [],
      "collapsed_sections": [],
      "toc_visible": true,
      "include_colab_link": true
    },
    "kernelspec": {
      "display_name": "Python 3",
      "language": "python",
      "name": "python3"
    },
    "language_info": {
      "codemirror_mode": {
        "name": "ipython",
        "version": 3
      },
      "file_extension": ".py",
      "mimetype": "text/x-python",
      "name": "python",
      "nbconvert_exporter": "python",
      "pygments_lexer": "ipython3",
      "version": "3.7.5"
    }
  },
  "cells": [
    {
      "cell_type": "markdown",
      "metadata": {
        "id": "view-in-github",
        "colab_type": "text"
      },
      "source": [
        "<a href=\"https://colab.research.google.com/github/kyovy6648/pa24/blob/main/ch4/ch4_code02_pa24.ipynb\" target=\"_parent\"><img src=\"https://colab.research.google.com/assets/colab-badge.svg\" alt=\"Open In Colab\"/></a>"
      ]
    },
    {
      "cell_type": "markdown",
      "metadata": {
        "id": "H4jNE-BMAK3f"
      },
      "source": [
        "# ch4_code02.ipynb\n",
        "## pa24  (change to your id)\n",
        "- 사용자 입력과 출력\n",
        "   - 사용자 입력\n",
        "     - input의 사용\n",
        "     - 프롬프트를 띄워서 사용자 입력 받기\n",
        "   - print 자세히 알기\n",
        "     - 큰따옴표(\")로 둘러싸인 문자열은 + 연산과 동일하다\n",
        "     - 문자열 띄어쓰기는 콤마로 한다\n",
        "     - 한 줄에 결괏값 출력하기\n",
        "---\n",
        "- 파일 읽고 쓰기\n",
        "   - 파일 생성하기\n",
        "   - 파일을 쓰기 모드로 열어 출력값 적기\n",
        "   - 프로그램의 외부에 저장된 파일을 읽는 여러 가지 방법\n",
        "     - readline() 함수 이용하기\n",
        "     - readlines 함수 사용하기\n",
        "     - read 함수 사용하기\n",
        "   - 파일에 새로운 내용 추가하기\n",
        "   - with문과 함께 사용하기"
      ]
    },
    {
      "cell_type": "markdown",
      "metadata": {
        "id": "uRmeDLFPxvEG"
      },
      "source": [
        "### user io"
      ]
    },
    {
      "cell_type": "code",
      "metadata": {
        "id": "hXPcvn1CtW6z",
        "colab": {
          "base_uri": "https://localhost:8080/"
        },
        "outputId": "d7942b54-7f36-4ef9-acca-a172a079d2f9"
      },
      "source": [
        "# ch4_02_user_io.py\n",
        "#\n",
        "print(\"사용자 입력과 출력\")\n",
        "#######################################\n",
        "# 사용자의 입력을 받는 방법과 출력하는 방법\n",
        "#######################################\n"
      ],
      "execution_count": 1,
      "outputs": [
        {
          "output_type": "stream",
          "text": [
            "사용자 입력과 출력\n"
          ],
          "name": "stdout"
        }
      ]
    },
    {
      "cell_type": "code",
      "metadata": {
        "colab": {
          "base_uri": "https://localhost:8080/",
          "height": 86
        },
        "id": "l6L5F_aermDb",
        "outputId": "2121e121-fa90-4f83-bf81-25a2a1adf8ca"
      },
      "source": [
        "print(\"사용자 입력\")\n",
        "# 사용자가 입력한 값을 어떤 변수에 대입\n",
        "#######################################\n",
        "print(\"input의 사용\")\n",
        "#######################################\n",
        "\n",
        "a = input()\n",
        "# Life is too short, you need python\n",
        "a"
      ],
      "execution_count": 2,
      "outputs": [
        {
          "output_type": "stream",
          "text": [
            "사용자 입력\n",
            "input의 사용\n",
            "Life is too short, you need python\n"
          ],
          "name": "stdout"
        },
        {
          "output_type": "execute_result",
          "data": {
            "application/vnd.google.colaboratory.intrinsic+json": {
              "type": "string"
            },
            "text/plain": [
              "'Life is too short, you need python'"
            ]
          },
          "metadata": {
            "tags": []
          },
          "execution_count": 2
        }
      ]
    },
    {
      "cell_type": "code",
      "metadata": {
        "colab": {
          "base_uri": "https://localhost:8080/"
        },
        "id": "6NVxd5Y3rrMt",
        "outputId": "c517d91c-3159-4a75-c145-20cb16f1ad5f"
      },
      "source": [
        "print(\"입력 안내 문구를 이용한 input의 사용\")\n",
        "#######################################\n",
        "# input(\"안내 문구\")\n",
        "#######################################\n",
        "\n",
        "number = input(\"숫자를 입력하세요: \")\n",
        "\n",
        "print(number)"
      ],
      "execution_count": 3,
      "outputs": [
        {
          "output_type": "stream",
          "text": [
            "입력 안내 문구를 이용한 input의 사용\n",
            "숫자를 입력하세요: 1\n",
            "1\n"
          ],
          "name": "stdout"
        }
      ]
    },
    {
      "cell_type": "code",
      "metadata": {
        "colab": {
          "base_uri": "https://localhost:8080/"
        },
        "id": "_AA4FaE6sAk7",
        "outputId": "57dba7f9-7523-4d4c-b9fb-8ccfbdea3569"
      },
      "source": [
        "number=input(\"숫자만 입력하세요\")\n",
        "if number.isnumeric():\n",
        "  print(number)\n",
        "else:\n",
        "  print(\"경고:숫자만 입력하세요!\")"
      ],
      "execution_count": 5,
      "outputs": [
        {
          "output_type": "stream",
          "text": [
            "숫자만 입력하세요54\n",
            "54\n"
          ],
          "name": "stdout"
        }
      ]
    },
    {
      "cell_type": "markdown",
      "metadata": {
        "id": "34NDFK5Rsc2y"
      },
      "source": [
        "### 사용자 출력: print()"
      ]
    },
    {
      "cell_type": "code",
      "metadata": {
        "colab": {
          "base_uri": "https://localhost:8080/"
        },
        "id": "MWG2W4U9r7qJ",
        "outputId": "81322bf5-78d1-47cc-858b-ece7d4272a4f"
      },
      "source": [
        "print(\"사용자 출력: print()\")\n",
        "# 입력한 자료형을 출력\n",
        "#######################################\n",
        "print(\"print의 사용\")\n",
        "#######################################\n",
        "\n",
        "a = 123\n",
        "print(a)\n",
        "\n",
        "a = \"Python\"\n",
        "print(a)\n",
        "\n",
        "a = [1, 2, 3]\n",
        "print(a)"
      ],
      "execution_count": 7,
      "outputs": [
        {
          "output_type": "stream",
          "text": [
            "사용자 출력: print()\n",
            "print의 사용\n",
            "123\n",
            "Python\n",
            "[1, 2, 3]\n"
          ],
          "name": "stdout"
        }
      ]
    },
    {
      "cell_type": "code",
      "metadata": {
        "colab": {
          "base_uri": "https://localhost:8080/"
        },
        "id": "Tno4MDveskWM",
        "outputId": "e939d424-4ea1-49a7-bbd2-f600954d322e"
      },
      "source": [
        "#######################################\n",
        "print(\"큰따옴표(\\\")로 둘러싸인 문자열은 + 연산과 동일\")\n",
        "#\n",
        "print(\"life\" \"is\" \"too short\")\n",
        "print(\"life\"+\"is\"+\"too short\")"
      ],
      "execution_count": 8,
      "outputs": [
        {
          "output_type": "stream",
          "text": [
            "큰따옴표(\")로 둘러싸인 문자열은 + 연산과 동일\n",
            "lifeistoo short\n",
            "lifeistoo short\n"
          ],
          "name": "stdout"
        }
      ]
    },
    {
      "cell_type": "code",
      "metadata": {
        "colab": {
          "base_uri": "https://localhost:8080/"
        },
        "id": "y-mwG7Eospic",
        "outputId": "a4c629e2-cd0c-4269-9ee2-e558bf645fad"
      },
      "source": [
        "#######################################\n",
        "print(\"문자열 띄어쓰기는 콤마로 한다\")\n",
        "#\n",
        "print(\"life\", \"is\", \"too short\")\n"
      ],
      "execution_count": 9,
      "outputs": [
        {
          "output_type": "stream",
          "text": [
            "문자열 띄어쓰기는 콤마로 한다\n",
            "life is too short\n"
          ],
          "name": "stdout"
        }
      ]
    },
    {
      "cell_type": "code",
      "metadata": {
        "colab": {
          "base_uri": "https://localhost:8080/"
        },
        "id": "5OTyhLygsts6",
        "outputId": "458ebf91-7061-4000-ef24-e9b7f49a2e63"
      },
      "source": [
        "#######################################\n",
        "print(\"한 줄에 결괏값 출력하기\")\n",
        "#\n",
        "for i in range(10):\n",
        "    print(i, end=' ')\n"
      ],
      "execution_count": 10,
      "outputs": [
        {
          "output_type": "stream",
          "text": [
            "한 줄에 결괏값 출력하기\n",
            "0 1 2 3 4 5 6 7 8 9 "
          ],
          "name": "stdout"
        }
      ]
    },
    {
      "cell_type": "markdown",
      "metadata": {
        "id": "UWweVZiOxmUE"
      },
      "source": [
        "### File io : 파일 입출력\n"
      ]
    },
    {
      "cell_type": "code",
      "metadata": {
        "id": "XKHVBjDWxSz1",
        "colab": {
          "base_uri": "https://localhost:8080/"
        },
        "outputId": "e457be7e-a01d-4b64-c559-408407c20f7b"
      },
      "source": [
        "# ch4_03_file_io.py\n",
        "#\n",
        "print(\"파일 읽고 쓰기\")\n",
        "#######################################\n",
        "# 파일을 통한 입출력 방법에 대해 알아보자.\n",
        "#######################################\n"
      ],
      "execution_count": 11,
      "outputs": [
        {
          "output_type": "stream",
          "text": [
            "파일 읽고 쓰기\n"
          ],
          "name": "stdout"
        }
      ]
    },
    {
      "cell_type": "markdown",
      "metadata": {
        "id": "eTWx_UpbtJ4Y"
      },
      "source": [
        "### 파일 객체 = open(파일 이름, 파일 열기 모드)\n",
        "\n",
        "- 파일열기모드\n",
        "  - r\t읽기모드 - 파일을 읽기만 할 때 사용\n",
        "  - w\t쓰기모드 - 파일에 내용을 쓸 때 사용\n",
        "  - a\t추가모드 - 파일의 마지막에 새로운 내용을 추가 시킬 때 사용"
      ]
    },
    {
      "cell_type": "code",
      "metadata": {
        "colab": {
          "base_uri": "https://localhost:8080/",
          "height": 52
        },
        "id": "MXoxLTF4s9F9",
        "outputId": "ccbe85a8-30ed-4e60-964f-97a3e895e532"
      },
      "source": [
        "print(\"파일 쓰기(생성하기)\")\n",
        "#\n",
        "# 파일 객체 = open(파일 이름, 파일 열기 모드)\n",
        "#\n",
        "# 파일열기모드\n",
        "# r\t읽기모드 - 파일을 읽기만 할 때 사용\n",
        "# w\t쓰기모드 - 파일에 내용을 쓸 때 사용\n",
        "# a\t추가모드 - 파일의 마지막에 새로운 내용을 추가 시킬 때 사용\n",
        "#\n",
        "\n",
        "f = open(\"새파일.txt\", \"w\")\n",
        "f.close()\n",
        "# 파일이 어디에 만들어졌는 지 확인하시오!!!\n",
        "\n",
        "# 다른 폴더에 파일 생성\n",
        "\"\"\"\n",
        "f = open(\"C:/doit/새파일.txt\", 'w')\n",
        "f.close()\n",
        "\"\"\""
      ],
      "execution_count": 12,
      "outputs": [
        {
          "output_type": "stream",
          "text": [
            "파일 쓰기(생성하기)\n"
          ],
          "name": "stdout"
        },
        {
          "output_type": "execute_result",
          "data": {
            "application/vnd.google.colaboratory.intrinsic+json": {
              "type": "string"
            },
            "text/plain": [
              "'\\nf = open(\"C:/doit/새파일.txt\", \\'w\\')\\nf.close()\\n'"
            ]
          },
          "metadata": {
            "tags": []
          },
          "execution_count": 12
        }
      ]
    },
    {
      "cell_type": "code",
      "metadata": {
        "id": "WDMewGJNt1R_"
      },
      "source": [
        "f = open(\"doit/새파일2.txt\", 'w')\n",
        "f.close()"
      ],
      "execution_count": 18,
      "outputs": []
    },
    {
      "cell_type": "code",
      "metadata": {
        "colab": {
          "base_uri": "https://localhost:8080/"
        },
        "id": "BAMTgLQNtDyw",
        "outputId": "c085034d-d956-4d6e-cc6c-c6c239e0d1b9"
      },
      "source": [
        "print(\"파일을 쓰기 모드로 열어 출력값 적기\")\n",
        "#######################################\n",
        "# 프로그램의 출력값을 파일에 직접 써 보자.\n",
        "#######################################\n",
        "# 모니터에 출력\n",
        "for i in range(1, 11):\n",
        "    data = \"%d번째 줄입니다.\\n\" % i\n",
        "    print(data)\n"
      ],
      "execution_count": 19,
      "outputs": [
        {
          "output_type": "stream",
          "text": [
            "파일을 쓰기 모드로 열어 출력값 적기\n",
            "1번째 줄입니다.\n",
            "\n",
            "2번째 줄입니다.\n",
            "\n",
            "3번째 줄입니다.\n",
            "\n",
            "4번째 줄입니다.\n",
            "\n",
            "5번째 줄입니다.\n",
            "\n",
            "6번째 줄입니다.\n",
            "\n",
            "7번째 줄입니다.\n",
            "\n",
            "8번째 줄입니다.\n",
            "\n",
            "9번째 줄입니다.\n",
            "\n",
            "10번째 줄입니다.\n",
            "\n"
          ],
          "name": "stdout"
        }
      ]
    },
    {
      "cell_type": "code",
      "metadata": {
        "id": "x8m08tEUuSpR"
      },
      "source": [
        "# 파일에 기록(출력)\n",
        "# writedata.py\n",
        "f = open(\"./새파일.txt\", \"w\")\n",
        "for i in range(1, 11):\n",
        "    data = \"%d번째 줄입니다.\\n\" % i\n",
        "    f.write(data)\n",
        "\n",
        "\n",
        "f.close()\n",
        "\n",
        "# 출력 파일의 한글이 깨지면\n",
        "# 파일 > 기본설정 > 설정 > Files: Auto Guess Encoding 을 지정(check)\n",
        "#"
      ],
      "execution_count": 20,
      "outputs": []
    },
    {
      "cell_type": "markdown",
      "metadata": {
        "id": "W31IbqRcuncN"
      },
      "source": [
        "### 파일읽기\n",
        "1. readline() 함수 이용하기\n",
        "2. readlines 함수 사용하기\n",
        "3. read 함수 사용하기"
      ]
    },
    {
      "cell_type": "code",
      "metadata": {
        "colab": {
          "base_uri": "https://localhost:8080/"
        },
        "id": "E9TervqOub1P",
        "outputId": "add80119-d5cb-435c-93ad-1e91b61cdebc"
      },
      "source": [
        "###################################################\n",
        "print(\"파일 읽기\")\n",
        "#\n",
        "# 파일 객체 = open(파일 이름, 파일 열기 모드)\n",
        "#\n",
        "# 파일읽기\n",
        "# readline() 함수 이용하기\n",
        "# readlines 함수 사용하기\n",
        "# read 함수 사용하기\n",
        "#\n",
        "# 1. readline() 함수\n",
        "# readline_test.py\n",
        "f = open(\"새파일.txt\", \"r\")\n",
        "line = f.readline()\n",
        "print(line)\n",
        "f.close()\n"
      ],
      "execution_count": 24,
      "outputs": [
        {
          "output_type": "stream",
          "text": [
            "파일 읽기\n",
            "1번째 줄입니다.\n",
            "\n"
          ],
          "name": "stdout"
        }
      ]
    },
    {
      "cell_type": "code",
      "metadata": {
        "colab": {
          "base_uri": "https://localhost:8080/"
        },
        "id": "GiWI8oNuu_qQ",
        "outputId": "1c2032e8-96ac-4bcc-8272-3b379efe85f6"
      },
      "source": [
        "# readline_all.py\n",
        "f = open(\"새파일.txt\", \"r\")\n",
        "while True:\n",
        "    line = f.readline()\n",
        "    if not line:\n",
        "        break\n",
        "    print(line)\n",
        "f.close()\n"
      ],
      "execution_count": 23,
      "outputs": [
        {
          "output_type": "stream",
          "text": [
            "1번째 줄입니다.\n",
            "\n",
            "2번째 줄입니다.\n",
            "\n",
            "3번째 줄입니다.\n",
            "\n",
            "4번째 줄입니다.\n",
            "\n",
            "5번째 줄입니다.\n",
            "\n",
            "6번째 줄입니다.\n",
            "\n",
            "7번째 줄입니다.\n",
            "\n",
            "8번째 줄입니다.\n",
            "\n",
            "9번째 줄입니다.\n",
            "\n",
            "10번째 줄입니다.\n",
            "\n"
          ],
          "name": "stdout"
        }
      ]
    },
    {
      "cell_type": "code",
      "metadata": {
        "colab": {
          "base_uri": "https://localhost:8080/"
        },
        "id": "8tzCzQWSuv1b",
        "outputId": "bcba4395-9cd7-45f1-b54f-a9107b755912"
      },
      "source": [
        "# 사용자 입력을 이용한 화면 출력\n",
        "while 1:\n",
        "    data = input()\n",
        "    if not data:\n",
        "        break\n",
        "    print(data)\n"
      ],
      "execution_count": 25,
      "outputs": [
        {
          "output_type": "stream",
          "text": [
            "abcd\n",
            "abcd\n",
            "3\n",
            "3\n",
            "0\n",
            "0\n",
            "0\n",
            "0\n",
            "00\n",
            "00\n",
            "00\n",
            "00\n",
            "00\n",
            "00\n",
            "76786\n",
            "76786\n",
            "\n"
          ],
          "name": "stdout"
        }
      ]
    },
    {
      "cell_type": "code",
      "metadata": {
        "colab": {
          "base_uri": "https://localhost:8080/"
        },
        "id": "OPuIcYAzvGsV",
        "outputId": "11b4cb6e-83d1-40fd-9315-aa4123ecdc99"
      },
      "source": [
        "# 2. readlines() 함수\n",
        "f = open(\"새파일.txt\", \"r\")\n",
        "lines = f.readlines()\n",
        "for line in lines:\n",
        "    print(line, end=\"\")\n",
        "f.close()\n"
      ],
      "execution_count": 29,
      "outputs": [
        {
          "output_type": "stream",
          "text": [
            "1번째 줄입니다.\n",
            "2번째 줄입니다.\n",
            "3번째 줄입니다.\n",
            "4번째 줄입니다.\n",
            "5번째 줄입니다.\n",
            "6번째 줄입니다.\n",
            "7번째 줄입니다.\n",
            "8번째 줄입니다.\n",
            "9번째 줄입니다.\n",
            "10번째 줄입니다.\n"
          ],
          "name": "stdout"
        }
      ]
    },
    {
      "cell_type": "code",
      "metadata": {
        "colab": {
          "base_uri": "https://localhost:8080/"
        },
        "id": "0-funQ9Mvay5",
        "outputId": "fd71b087-407f-463d-935d-9da3eb1c063a"
      },
      "source": [
        "# 3. readl() 함수\n",
        "f = open(\"새파일.txt\", \"r\")\n",
        "data = f.read()\n",
        "print(data)\n",
        "f.close()\n"
      ],
      "execution_count": 30,
      "outputs": [
        {
          "output_type": "stream",
          "text": [
            "1번째 줄입니다.\n",
            "2번째 줄입니다.\n",
            "3번째 줄입니다.\n",
            "4번째 줄입니다.\n",
            "5번째 줄입니다.\n",
            "6번째 줄입니다.\n",
            "7번째 줄입니다.\n",
            "8번째 줄입니다.\n",
            "9번째 줄입니다.\n",
            "10번째 줄입니다.\n",
            "\n"
          ],
          "name": "stdout"
        }
      ]
    },
    {
      "cell_type": "code",
      "metadata": {
        "colab": {
          "base_uri": "https://localhost:8080/"
        },
        "id": "jEXayAw9vkLJ",
        "outputId": "60fdb17f-b8aa-4f6c-89e3-cbdc407ec45c"
      },
      "source": [
        "###################################################\n",
        "print(\"파일에 새로운 내용 추가하기\")\n",
        "#\n",
        "# 파일에 원래 있던 값을 유지하면서 단지 새로운 값만 추가\n",
        "# 파일을 추가 모드('a')로 열고 쓴다.\n",
        "#\n",
        "# adddata.py\n",
        "f = open(\"새파일.txt\", \"a\")\n",
        "for i in range(11, 20):\n",
        "    data = \"%d번째 줄입니다.\\n\" % i\n",
        "    f.write(data)\n",
        "f.close()\n"
      ],
      "execution_count": 31,
      "outputs": [
        {
          "output_type": "stream",
          "text": [
            "파일에 새로운 내용 추가하기\n"
          ],
          "name": "stdout"
        }
      ]
    },
    {
      "cell_type": "code",
      "metadata": {
        "colab": {
          "base_uri": "https://localhost:8080/"
        },
        "id": "-O7Q7MJqvppa",
        "outputId": "d35bf5e6-6366-46d9-b994-ccd691b0895e"
      },
      "source": [
        "# 수정된 파일 확인\n",
        "f = open(\"새파일.txt\", \"r\")\n",
        "data = f.read()\n",
        "print(data)\n",
        "f.close()\n"
      ],
      "execution_count": 32,
      "outputs": [
        {
          "output_type": "stream",
          "text": [
            "1번째 줄입니다.\n",
            "2번째 줄입니다.\n",
            "3번째 줄입니다.\n",
            "4번째 줄입니다.\n",
            "5번째 줄입니다.\n",
            "6번째 줄입니다.\n",
            "7번째 줄입니다.\n",
            "8번째 줄입니다.\n",
            "9번째 줄입니다.\n",
            "10번째 줄입니다.\n",
            "11번째 줄입니다.\n",
            "12번째 줄입니다.\n",
            "13번째 줄입니다.\n",
            "14번째 줄입니다.\n",
            "15번째 줄입니다.\n",
            "16번째 줄입니다.\n",
            "17번째 줄입니다.\n",
            "18번째 줄입니다.\n",
            "19번째 줄입니다.\n",
            "\n"
          ],
          "name": "stdout"
        }
      ]
    },
    {
      "cell_type": "markdown",
      "metadata": {
        "id": "2tcdC_IRvz8K"
      },
      "source": [
        "### with in file io\n",
        ">with문을 사용하면 with 블록을 벗어나는 순간 열릭파일 객체 f가 자동으로 close된다."
      ]
    },
    {
      "cell_type": "code",
      "metadata": {
        "colab": {
          "base_uri": "https://localhost:8080/"
        },
        "id": "4uDKIpuDvuKf",
        "outputId": "52b06897-13bb-4c77-9b88-dd61dbb837ef"
      },
      "source": [
        "###################################################\n",
        "print(\"with문과 함께 사용하기\")\n",
        "#\n",
        "# with문을 사용하면 with 블록을 벗어나는 순간\n",
        "# 열린 파일 객체 f가 자동으로 close 된다.\n",
        "#\n",
        "f = open(\"foo.txt\", \"w\")\n",
        "f.write(\"Life is too short, you need python\")\n",
        "f.close()\n"
      ],
      "execution_count": 33,
      "outputs": [
        {
          "output_type": "stream",
          "text": [
            "with문과 함께 사용하기\n"
          ],
          "name": "stdout"
        }
      ]
    },
    {
      "cell_type": "code",
      "metadata": {
        "id": "7L8lmC4wwBi3"
      },
      "source": [
        "with open(\"foo1.txt\", \"w\") as f:\n",
        "    f.write(\"Life is too short, you need python\\n\")\n",
        "    f.write(\"pa24,설지현\")"
      ],
      "execution_count": 36,
      "outputs": []
    },
    {
      "cell_type": "markdown",
      "metadata": {
        "id": "uORRvhTywYRY"
      },
      "source": [
        "### sys 모듈로 매개변수 주기"
      ]
    },
    {
      "cell_type": "code",
      "metadata": {
        "colab": {
          "base_uri": "https://localhost:8080/",
          "height": 69
        },
        "id": "vOYXfYuxwEMo",
        "outputId": "eeed3f69-0a9c-46e4-f834-3b4ccc67e75f"
      },
      "source": [
        "###################################################\n",
        "print(\"sys 모듈로 매개변수 주기\")\n",
        "#\n",
        "\"\"\"\n",
        "#sys1.py\n",
        "import sys\n",
        "args = sys.argv[1:]\n",
        "for i in args:\n",
        "    print(i)\n",
        "\"\"\"\n",
        "\n",
        "######\n",
        "\"\"\"\n",
        "#sys2.py\n",
        "import sys\n",
        "args = sys.argv[1:]\n",
        "for i in args:\n",
        "    print(i.upper(), end=' ')\n",
        "\"\"\"\n"
      ],
      "execution_count": 37,
      "outputs": [
        {
          "output_type": "stream",
          "text": [
            "sys 모듈로 매개변수 주기\n"
          ],
          "name": "stdout"
        },
        {
          "output_type": "execute_result",
          "data": {
            "application/vnd.google.colaboratory.intrinsic+json": {
              "type": "string"
            },
            "text/plain": [
              "\"\\n#sys2.py\\nimport sys\\nargs = sys.argv[1:]\\nfor i in args:\\n    print(i.upper(), end=' ')\\n\""
            ]
          },
          "metadata": {
            "tags": []
          },
          "execution_count": 37
        }
      ]
    },
    {
      "cell_type": "code",
      "metadata": {
        "id": "fGBlcLGN-3pd",
        "colab": {
          "base_uri": "https://localhost:8080/"
        },
        "outputId": "9d5c2b4c-0850-4fc4-81c3-2471b5623a0a"
      },
      "source": [
        "import sys\n",
        "args=sys.argv[1:]\n",
        "for arg in args:\n",
        "  print(arg)"
      ],
      "execution_count": 40,
      "outputs": [
        {
          "output_type": "stream",
          "text": [
            "-f\n",
            "/root/.local/share/jupyter/runtime/kernel-f2175250-0405-4011-b284-34d1040c10d8.json\n"
          ],
          "name": "stdout"
        }
      ]
    },
    {
      "cell_type": "code",
      "metadata": {
        "colab": {
          "base_uri": "https://localhost:8080/"
        },
        "id": "tFhFid9Vw3JQ",
        "outputId": "a9df1681-5405-4629-abf3-b50ad5d179d9"
      },
      "source": [
        "run sys1.py"
      ],
      "execution_count": 44,
      "outputs": [
        {
          "output_type": "stream",
          "text": [
            "sys1.py\n"
          ],
          "name": "stdout"
        }
      ]
    },
    {
      "cell_type": "code",
      "metadata": {
        "colab": {
          "base_uri": "https://localhost:8080/"
        },
        "id": "BFvMwgrCxIZn",
        "outputId": "c4790d25-f8ed-424c-b871-8a44efab1b5e"
      },
      "source": [
        "run sys1.py a b c"
      ],
      "execution_count": 45,
      "outputs": [
        {
          "output_type": "stream",
          "text": [
            "sys1.py\n",
            "a\n",
            "b\n",
            "c\n"
          ],
          "name": "stdout"
        }
      ]
    },
    {
      "cell_type": "code",
      "metadata": {
        "colab": {
          "base_uri": "https://localhost:8080/"
        },
        "id": "YEtmnesKxWVY",
        "outputId": "7acab87b-df3c-429b-bef8-d993b9c6236f"
      },
      "source": [
        "run sys2.py aa bb cc"
      ],
      "execution_count": 46,
      "outputs": [
        {
          "output_type": "stream",
          "text": [
            "AA BB CC "
          ],
          "name": "stdout"
        }
      ]
    },
    {
      "cell_type": "code",
      "metadata": {
        "colab": {
          "base_uri": "https://localhost:8080/"
        },
        "id": "fdlQ-nMOxb3F",
        "outputId": "77f6ad23-978e-4d45-873f-07b2919ac566"
      },
      "source": [
        "!python sys2.py abc def"
      ],
      "execution_count": 47,
      "outputs": [
        {
          "output_type": "stream",
          "text": [
            "ABC DEF "
          ],
          "name": "stdout"
        }
      ]
    }
  ]
}